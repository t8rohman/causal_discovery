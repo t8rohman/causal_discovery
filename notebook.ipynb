{
 "cells": [
  {
   "cell_type": "markdown",
   "metadata": {},
   "source": [
    "# Causal Discovery and Inference\n",
    "\n",
    "**\"Correlation is not causation.\"**\n",
    "\n",
    "The age-old adage \"correlation is not causation\" highlights a critical limitation in data analysis. Traditionally, we rely on correlations to understand how variables are associated. However, correlation simply shows a link, not a cause-and-effect relationship.\n",
    "\n",
    "A classic example is the link between ice cream sales and shark attacks. Data might show both rise during summer, tempting us to believe ice cream consumption somehow causes shark attacks! But the real culprit is likely a lurking third variable: hot weather. Hot weather naturally leads to people buying more ice cream and spending more time at the beach, increasing the chance of encountering sharks.\n",
    "\n",
    "This is where causal discovery and inference come in. These fields aim to bridge the gap beyond correlation and understand true cause-and-effect relationships. They work in tandem:\n",
    "\n",
    "- **Causal discovery** is like detective work. It  focuses on identifying  causal relationships from data. Imagine you have a bunch of observations: ice cream sales go up, and so do sunburn rates. Causal discovery helps you figure out if sunshine causes people to buy ice cream (direct cause) or if both are caused by a hot summer (indirect cause).\n",
    "\n",
    "- **Causal inference** goes a step further. Once you have a suspected causal relationship, causal inference estimates the magnitude or strength of that effect. Continuing the ice cream example, causal inference helps you determine how much sunburn rates actually increase ice cream sales (by a specific percentage or amount).\n",
    "\n",
    "By moving beyond correlation with causal inference, we can now make a more definitive statement: \"X causes Y\" instead of just \"X is associated with Y\". Understanding true cause-and-effect relationships is crucial for effective decision-making across various fields. In medicine, it can determine a new drug's true effectiveness. In marketing, it can reveal the factors that truly drive sales.\n",
    "\n",
    "This notebook will delve into the **theory behind causal discovery and inference, explore some algorithms used for these tasks, and introduce Python libraries** that can help you perform causal analysis."
   ]
  },
  {
   "cell_type": "markdown",
   "metadata": {},
   "source": []
  },
  {
   "cell_type": "markdown",
   "metadata": {},
   "source": [
    "# 1. Causal Graph\n",
    "\n",
    "A causal graph, also known as a causal Bayesian network or causal DAG (Directed Acyclic Graph), is a graphical representation of causal relationships between variables. In a causal graph, nodes represent variables, and directed edges between nodes indicate causal relationships, showing the direction of influence from one variable to another. The graph is acyclic, meaning there are no loops where a variable directly or indirectly influences itself.\n",
    "\n",
    "Causal graphs are used in causal inference to model and understand causal relationships in complex systems. They help in identifying causal pathways, determining which variables are direct causes of others, and estimating the effects of interventions or changes in variables.\n",
    "\n",
    "Let's take a look at them now."
   ]
  },
  {
   "cell_type": "markdown",
   "metadata": {},
   "source": [
    "## 1.1. Introduction to Basic Graphs\n",
    "\n",
    "To grasp the fundamentals of a basic graph and its associated terms, we can examine the following graph, which illustrates the definition of each component in a basic graph:\n",
    "\n",
    "- **Nodes:** You have nodes V, specifically: V = {X, Y, Z}\n",
    "- **Edges:** You also have edges E. These edges connect pairs of nodes, where each node represents a (random) variable.\n",
    "- **Graph Representation:** The combination of edges and nodes forms a graph **G = (V, E)**\n",
    "\n",
    "Please note that for **creating causal graphs, the daft library can be utilized**. This Python package uses matplotlib to generate precise probabilistic graphical models, suitable for publication in journals or on the internet. For the documentation about drawing causal graph using daft library, you can check it <a href=\"https://docs.daft-pgm.org/en/latest/api/#the-pgm-object\">here.</a>"
   ]
  },
  {
   "cell_type": "code",
   "execution_count": 11,
   "metadata": {},
   "outputs": [
    {
     "data": {
      "image/png": "[encoded data removed]",
      "text/plain": [
       "<Figure size 299.213x181.102 with 1 Axes>"
      ]
     },
     "metadata": {},
     "output_type": "display_data"
    }
   ],
   "source": [
    "import matplotlib.pyplot as plt\n",
    "from daft import PGM\n",
    "\n",
    "V = PGM(grid_unit=3.0)\n",
    "\n",
    "# add nodes X, Y, and Z\n",
    "V.add_node(\"X\", \"X\", 1, 1)\n",
    "V.add_node(\"Y\", \"Y\", 3, 1)\n",
    "V.add_node(\"Z\", \"Z\", 2, 2)\n",
    "\n",
    "# after that, we can crete the edges to connect pairs of nodes\n",
    "V.add_edge(\"X\", \"Y\", directed=False)\n",
    "V.add_edge(\"Y\", \"Z\", directed=False)\n",
    "V.add_edge(\"X\", \"Z\", directed=False)\n",
    "\n",
    "V.render()\n",
    "plt.show()"
   ]
  },
  {
   "cell_type": "markdown",
   "metadata": {},
   "source": [
    "## 1.2. Directed Acyclic Graphs (DAG)\n",
    "\n",
    "In order to represent causal relationships, we must transition from undirected to directed graphs. The previous graph illustrates an undirected graph. By using directed graphs as follows, we can **indicate relationships between nodes through kinship relations, referring to nodes as parents, children, ancestors, and descendants.**"
   ]
  },
  {
   "cell_type": "code",
   "execution_count": 12,
   "metadata": {},
   "outputs": [
    {
     "data": {
      "image/png": "[encoded data removed]",
      "text/plain": [
       "<Figure size 299.213x181.102 with 1 Axes>"
      ]
     },
     "metadata": {},
     "output_type": "display_data"
    }
   ],
   "source": [
    "V = PGM(grid_unit=3.0)\n",
    "\n",
    "V.add_node(\"X\", \"X\", 1, 1)\n",
    "V.add_node(\"Y\", \"Y\", 3, 1)\n",
    "V.add_node(\"Z\", \"Z\", 2, 2)\n",
    "# let's add M now to the previous graph to be able to show a more complex graph\n",
    "V.add_node(\"M\", \"M\", 2, 1)\n",
    "\n",
    "# to move from undirected to directed, we can skip defining \"directed\" parameter\n",
    "# the arrow moves from the first node to the second node defined in the parameter\n",
    "V.add_edge(\"X\", \"M\")\n",
    "V.add_edge(\"M\", \"Y\")\n",
    "V.add_edge(\"Y\", \"Z\")\n",
    "V.add_edge(\"X\", \"Z\")\n",
    "\n",
    "V.render()\n",
    "plt.show()"
   ]
  },
  {
   "cell_type": "markdown",
   "metadata": {},
   "source": [
    "There are additional terms that are important for you to grasp:\n",
    "\n",
    "- **Adjacent:** When two nodes are connected, they are considered adjacent. For instance, Nodes X and M.\n",
    "- **Parents and Children:** In the provided graph, the edge E(M, Y) indicates that node M is a parent of Y while at the same time, node Y is the child of node M.\n",
    "- **Ancestor and Descendant:** Similar to familial relationships, Node X is an ancestor of M and Y, while Y is a descendant of M and X."
   ]
  },
  {
   "cell_type": "markdown",
   "metadata": {},
   "source": []
  },
  {
   "cell_type": "markdown",
   "metadata": {},
   "source": [
    "# 2. Basic Principles in Causality"
   ]
  },
  {
   "cell_type": "markdown",
   "metadata": {},
   "source": [
    "## 2.1. Common Causal Principle\n",
    "\n",
    "Suppose you've conducted a statistical test and discovered a significant correlation between variables X and Y. According to Reichenbach’s common cause principle, three possible cases arise:\n",
    "\n",
    "1. X is either the cause of Y, or\n",
    "2. Y is the cause of X, or\n",
    "3. There is a common cause Z that causes both X and Y (Z is also known as confounder)."
   ]
  },
  {
   "cell_type": "code",
   "execution_count": 13,
   "metadata": {},
   "outputs": [
    {
     "data": {
      "image/png": "[encoded data removed]",
      "text/plain": [
       "<Figure size 181.102x62.9921 with 1 Axes>"
      ]
     },
     "metadata": {},
     "output_type": "display_data"
    },
    {
     "data": {
      "image/png": "[encoded data removed]",
      "text/plain": [
       "<Figure size 181.102x62.9921 with 1 Axes>"
      ]
     },
     "metadata": {},
     "output_type": "display_data"
    },
    {
     "data": {
      "image/png": "[encoded data removed]",
      "text/plain": [
       "<Figure size 299.213x181.102 with 1 Axes>"
      ]
     },
     "metadata": {},
     "output_type": "display_data"
    }
   ],
   "source": [
    "'''Create graph for case 1'''\n",
    "V = PGM(grid_unit=3.0)\n",
    "\n",
    "V.add_node(\"X\", \"X\", 1, 1)\n",
    "V.add_node(\"Y\", \"Y\", 2, 1)\n",
    "V.add_edge(\"X\", \"Y\")\n",
    "\n",
    "V.render()\n",
    "plt.title('Case 1: X causes Y')\n",
    "\n",
    "\n",
    "'''Create graph for case 2'''\n",
    "V2 = PGM(grid_unit=3.0)\n",
    "\n",
    "V2.add_node(\"X\", \"X\", 1, 1)\n",
    "V2.add_node(\"Y\", \"Y\", 2, 1)\n",
    "V2.add_edge(\"Y\", \"X\")\n",
    "\n",
    "V2.render()\n",
    "plt.title('Case 2: Y causes X')\n",
    "\n",
    "\n",
    "'''Create graph for case 3'''\n",
    "V3 = PGM(grid_unit=3.0)\n",
    "V3.add_node(\"X\", \"X\", 1, 1)\n",
    "V3.add_node(\"Y\", \"Y\", 3, 1)\n",
    "V3.add_node(\"Z\", \"Z\", 2, 2)\n",
    "\n",
    "V3.add_edge(\"Z\", \"X\")\n",
    "V3.add_edge(\"Z\", \"Y\")\n",
    "V3.add_edge(\"X\", \"Y\")\n",
    "\n",
    "V3.render()\n",
    "plt.title('Case 3: Z causes X and Y')\n",
    "\n",
    "plt.show()"
   ]
  },
  {
   "cell_type": "markdown",
   "metadata": {},
   "source": [
    "## 2.2. Confounders, Colliders, Mediators & blocking paths"
   ]
  },
  {
   "cell_type": "markdown",
   "metadata": {},
   "source": [
    "### 2.2.1. Confounders\n",
    "\n",
    "Confounder is a variable that **influences both the independent variable and the dependent variable**, leading to a spurious association between them. Confounders can obscure the true relationship between the variables of interest, leading to incorrect conclusions if not properly accounted for. As shown in the graph below, Z is the confounder of X and Y."
   ]
  },
  {
   "cell_type": "code",
   "execution_count": 14,
   "metadata": {},
   "outputs": [
    {
     "data": {
      "image/png": "[encoded data removed]",
      "text/plain": [
       "<Figure size 299.213x181.102 with 1 Axes>"
      ]
     },
     "metadata": {},
     "output_type": "display_data"
    }
   ],
   "source": [
    "V = PGM(grid_unit=3.0)\n",
    "\n",
    "V.add_node(\"X\", \"X\", 1, 1)\n",
    "V.add_node(\"Y\", \"Y\", 3, 1)\n",
    "V.add_node(\"Z\", \"Z\", 2, 2,\n",
    "           plot_params={'fc': 'r'}, \n",
    "           label_params={'color':'w', 'fontproperties': {'weight': 'heavy'}})\n",
    "\n",
    "V.add_edge(\"Z\", \"X\")\n",
    "V.add_edge(\"Z\", \"Y\")\n",
    "V.add_edge(\"X\", \"Y\")\n",
    "\n",
    "V.render()\n",
    "\n",
    "plt.title('Z as Confounder')\n",
    "plt.show()"
   ]
  },
  {
   "cell_type": "markdown",
   "metadata": {},
   "source": [
    "### 2.2.2. Colliders\n",
    "\n",
    "A collider is a **variable that is influenced by two or more other variables**. Conditioning on a collider can lead to biased estimates if not done carefully, as it can induce spurious associations between variables that are not causally related. Let's take a look an example below.\n",
    "\n",
    "Imagine you're studying the relationship between exercise (X) and heart health (Y), and you also know that diet (Z) affects heart health. Let's say that exercise and diet are independent of each other, meaning that one does not directly cause the other. In the equation, the relationship between X and Y would look like:\n",
    "\n",
    "$Y = \\beta_0 + \\beta_1 \\times X + \\epsilon$\n",
    "\n",
    "If you were to look at the data without considering diet (Z), you might find a strong association between exercise (X) and heart health (Y). However, this association might be misleading because diet (Z) also affects heart health and is related to exercise. When you include diet (Z) in your analysis by \"conditioning on Z,\" you are essentially trying to isolate the effect of exercise (X) on heart health (Y) while accounting for the influence of diet. So, the equation would look like this now:\n",
    "\n",
    "$Y = \\beta_0 + \\beta_1 \\times X + \\beta_2 \\times Z + \\epsilon$\n",
    "\n",
    "However, conditioning on B can **create a \"collider bias\" because it opens up a pathway between exercise (A) and diet (B)**, which can then create a spurious association between exercise (A) and heart health (C). In this example, by conditioning on diet (B), which is a collider, you might mistakenly conclude that there is a direct causal relationship between exercise (A) and heart health (C) when, in fact, the association is due to the way the variables are related through diet."
   ]
  },
  {
   "cell_type": "code",
   "execution_count": 15,
   "metadata": {},
   "outputs": [
    {
     "data": {
      "image/png": "[encoded data removed]",
      "text/plain": [
       "<Figure size 299.213x181.102 with 1 Axes>"
      ]
     },
     "metadata": {},
     "output_type": "display_data"
    }
   ],
   "source": [
    "V = PGM(grid_unit=3.0)\n",
    "\n",
    "V.add_node(\"X\", \"X\", 1, 1)\n",
    "V.add_node(\"Y\", \"Y\", 3, 1)\n",
    "# add node for collider\n",
    "V.add_node(\"Z\", \"Z\", 2, 2, \n",
    "           plot_params={'fc': 'r'}, \n",
    "           label_params={'color':'w', 'fontproperties': {'weight': 'heavy'}})\n",
    "\n",
    "V.add_edge(\"X\", \"Z\", plot_params={'ec': 'r'})\n",
    "V.add_edge(\"Y\", \"Z\", plot_params={'ec': 'r'})\n",
    "V.add_edge(\"X\", \"Y\")\n",
    "\n",
    "V.render()\n",
    "\n",
    "plt.title('Z as Collider')\n",
    "plt.show()"
   ]
  },
  {
   "cell_type": "markdown",
   "metadata": {},
   "source": [
    "### 2.2.3. Mediator\n",
    "\n",
    "A mediator (M) is a **variable that explains the relationship between two other variables**. It is part of the causal pathway between an independent variable (X) and a dependent variable (Y). In other words, the mediator helps to understand how or why X influences Y. Conditioning on a mediator variable in a causal analysis can help to isolate and estimate the direct effect of the independent variable on the dependent variable, independent of the mediator's influence.\n",
    "\n",
    "Let's use an analogy of the flow of a river. When considering causal relationships as directed flows, we can observe that a node (M) mediates the association between two other nodes (X and Y). This node acts as a mediator, transmitting the association between X and Y. To block this association, we simply need to keep M constant, similar to how a dam controls the flow of a river. This separation of M from X and Y helps us isolate and analyze the direct effects between two of them."
   ]
  },
  {
   "cell_type": "code",
   "execution_count": 16,
   "metadata": {},
   "outputs": [
    {
     "data": {
      "image/png": "[encoded data removed]",
      "text/plain": [
       "<Figure size 299.213x181.102 with 1 Axes>"
      ]
     },
     "metadata": {},
     "output_type": "display_data"
    }
   ],
   "source": [
    "V = PGM(grid_unit=3.0)\n",
    "\n",
    "V.add_node(\"X\", \"X\", 1, 1)\n",
    "V.add_node(\"Y\", \"Y\", 3, 1)\n",
    "V.add_node(\"Z\", \"Z\", 2, 2)\n",
    "V.add_node(\"M\", \"M\", 2, 1, \n",
    "           plot_params={'fc': 'r'}, \n",
    "           label_params={'color':'w', 'fontproperties': {'weight': 'heavy'}})\n",
    "\n",
    "V.add_edge(\"Z\", \"X\")\n",
    "V.add_edge(\"Z\", \"Y\")\n",
    "V.add_edge(\"X\", \"M\")\n",
    "V.add_edge(\"M\", \"Y\")\n",
    "\n",
    "V.render()\n",
    "\n",
    "plt.title('M as Mediator')\n",
    "plt.show()"
   ]
  },
  {
   "cell_type": "markdown",
   "metadata": {},
   "source": [
    "### 2.2.4. D-Separation (Direct Separation)\n",
    "\n",
    "The last concept we have to know before moving forward to the next section is d-separation. The concept of d-separation is used to determine whether two sets of variables in the graph are independent of each other given a third set of variables. This determination is made by examining the graph's structure to see if there are any paths between the sets of variables that are blocked or unblocked based on the configuration of the graph.\n",
    "\n",
    "Understanding d-separation is important in causal inference and graphical modeling because it helps us to **determine whether variables are conditionally independent of each other** given certain conditions. This is crucial for identifying causal relationships and understanding the effects of variables in a causal pathway.\n",
    "\n",
    "When considering d-separation along with concepts like colliders, confounders, and mediators, it becomes even more valuable.\n",
    "\n",
    "1. **Colliders**: D-separation can help identify whether conditioning on a collider (a variable influenced by two other variables) opens or blocks a path between the two variables. This is important because conditioning on a collider can lead to biased estimates if not done carefully.\n",
    "\n",
    "2. **Confounders**: D-separation can help identify whether there are unblocked paths between the treatment (independent variable) and the outcome (dependent variable) that pass through a confounder (a variable that influences both the treatment and the outcome). Conditioning on a confounder can help control for its effect and estimate the direct effect of the treatment on the outcome.\n",
    "\n",
    "3. **Mediators**: D-separation can help identify paths that pass through a mediator (a variable that explains the relationship between the treatment and the outcome). Understanding these paths is crucial for mediation analysis, where we want to determine the direct and indirect effects of the treatment on the outcome through the mediator.\n",
    "\n",
    "For more detailed information about these four definitions we have discussed, please take a look at Kenneth Styppa article about causal discovery <a href='https://medium.com/causality-in-data-science/confounding-colliding-d-separation-and-sleeping-with-shoes-on-8ba43c976354'>here.</a>"
   ]
  },
  {
   "cell_type": "markdown",
   "metadata": {},
   "source": []
  },
  {
   "cell_type": "markdown",
   "metadata": {},
   "source": [
    "# 3. Causal Discovery\n",
    "\n",
    "In causal inference, we encounter two distinct tasks depending on our objective.\n",
    "\n",
    "- **Task 1:** This task involves using existing qualitative knowledge about causal relationships to construct a directed acyclic graph. This graph is then used to quantitatively estimate causal effects, a process known as causal effect estimation.\n",
    "- **Task 2:** In contrast, this task begins with no prior knowledge about the relationships between variables. It involves an exploratory process to uncover these relationships, often referred to as causal discovery.\n",
    "\n",
    "In this section, we will delve into the topic of causal discovery, explore a popular algorithm, and demonstrate how to implement it in Python."
   ]
  },
  {
   "cell_type": "markdown",
   "metadata": {},
   "source": [
    "## 3.1. PC Algorithm\n",
    "\n",
    "The PC (Peter & Clark) algorithm is one of the popular algorithms used for causal discovery in Bayesian networks. It is popular as the way it works is pretty intuitive for someone who just starts learning about causal discovery. It is a constraint-based algorithm that uses conditional independence tests to determine the presence or absence of edges (directed edges representing causal relationships) in a Bayesian network. Here's a high-level overview of how the PC algorithm works:\n",
    "\n",
    "1. **Initialize the graph**: Start with a fully connected undirected graph (all variables are connected to each other).\n",
    "\n",
    "2. **Conditional Independence tests**:\n",
    "   - For each pair of variables $(X)$ and $(Y)$, test if they are conditionally independent given a set of variables $(S)$, denoted as $(X \\perp Y \\,|\\, S))$. This test determines if there is a direct causal relationship between $(X)$ and $(Y)$ after conditioning on $(S)$.\n",
    "   - Start with S as the empty set S={} and increasing its size (cardinality) by 1 for every iteration.\n",
    "   - Use statistical tests such as the chi-square test or mutual information to determine conditional independence.\n",
    "\n",
    "3. **Remove edges based on conditional independence**:\n",
    "   - If $(X \\perp Y \\,|\\, S)$ holds, remove the edge between $(X)$ and $(Y)$ in the graph.\n",
    "   - If $(X \\not\\perp Y \\,|\\, S)$, retain the edge between $(X)$ and $(Y)$ in the graph.\n",
    "\n",
    "4. **Transitive closure**:\n",
    "   - After all conditional independence tests are performed, apply the transitive closure to the graph. This involves removing edges that are implied by the remaining edges in the graph. \n",
    "\n",
    "4. **Establish causal direction**:\n",
    "   - Establish (causal) directions for each remaining edge using colliders, the assumption that there are no cycles, and any other assumptions you can make use of, such as time order.\n",
    "   - Will be discussed more details in a dedicated sub-section.\n",
    "\n",
    "5. **Return the resulting graph**:\n",
    "   - The final graph represents the causal relationships between variables as inferred by the PC algorithm.\n",
    "\n",
    "The PC algorithm, moreover, is widely used for causal discovery due to its ability to handle large datasets and its scalability to high-dimensional data. However, it is important to note that the algorithm's performance can be influenced by factors such as the choice of conditional independence tests and the presence of latent variables.\n",
    "\n",
    "Now let's do this by using a synthesized dataset."
   ]
  },
  {
   "cell_type": "markdown",
   "metadata": {},
   "source": [
    "### 3.1.1. Synthesized Dataset\n",
    "\n",
    "We will now attempt to do the PC algorithm to reveal the causal discovery. But before that, let's create the sythesized dataset by ourselves where we already knew the structural of the causal model so we can use the PC algorithm to prove whether what we're doing is correct."
   ]
  },
  {
   "cell_type": "code",
   "execution_count": 17,
   "metadata": {},
   "outputs": [
    {
     "data": {
      "image/png": "[encoded data removed]",
      "text/plain": [
       "<Figure size 299.213x299.213 with 1 Axes>"
      ]
     },
     "metadata": {},
     "output_type": "display_data"
    }
   ],
   "source": [
    "V = PGM(grid_unit=3.0)\n",
    "\n",
    "V.add_node(\"A\", \"A\", 1, 1)\n",
    "V.add_node(\"B\", \"B\", 3, 1)\n",
    "V.add_node(\"Z\", \"Z\", 2, 0)\n",
    "V.add_node(\"D\", \"D\", 1, -1)\n",
    "V.add_node(\"E\", \"E\", 3, -1)\n",
    "\n",
    "V.add_edge(\"A\", \"Z\")\n",
    "V.add_edge(\"B\", \"Z\")\n",
    "V.add_edge(\"Z\", \"D\")\n",
    "V.add_edge(\"Z\", \"E\")\n",
    "\n",
    "V.render()\n",
    "\n",
    "plt.show()"
   ]
  },
  {
   "cell_type": "code",
   "execution_count": 18,
   "metadata": {},
   "outputs": [
    {
     "data": {
      "text/html": [
       "<div>\n",
       "<style scoped>\n",
       "    .dataframe tbody tr th:only-of-type {\n",
       "        vertical-align: middle;\n",
       "    }\n",
       "\n",
       "    .dataframe tbody tr th {\n",
       "        vertical-align: top;\n",
       "    }\n",
       "\n",
       "    .dataframe thead th {\n",
       "        text-align: right;\n",
       "    }\n",
       "</style>\n",
       "<table border=\"1\" class=\"dataframe\">\n",
       "  <thead>\n",
       "    <tr style=\"text-align: right;\">\n",
       "      <th></th>\n",
       "      <th>b</th>\n",
       "      <th>z</th>\n",
       "      <th>d</th>\n",
       "      <th>e</th>\n",
       "      <th>a</th>\n",
       "    </tr>\n",
       "  </thead>\n",
       "  <tbody>\n",
       "    <tr>\n",
       "      <th>0</th>\n",
       "      <td>0</td>\n",
       "      <td>4.131800</td>\n",
       "      <td>4.877901</td>\n",
       "      <td>4.218225</td>\n",
       "      <td>6</td>\n",
       "    </tr>\n",
       "    <tr>\n",
       "      <th>1</th>\n",
       "      <td>7</td>\n",
       "      <td>8.025863</td>\n",
       "      <td>6.400827</td>\n",
       "      <td>7.811688</td>\n",
       "      <td>3</td>\n",
       "    </tr>\n",
       "    <tr>\n",
       "      <th>2</th>\n",
       "      <td>3</td>\n",
       "      <td>11.042609</td>\n",
       "      <td>11.134788</td>\n",
       "      <td>10.959215</td>\n",
       "      <td>7</td>\n",
       "    </tr>\n",
       "    <tr>\n",
       "      <th>3</th>\n",
       "      <td>3</td>\n",
       "      <td>6.480147</td>\n",
       "      <td>6.163588</td>\n",
       "      <td>3.292335</td>\n",
       "      <td>4</td>\n",
       "    </tr>\n",
       "    <tr>\n",
       "      <th>4</th>\n",
       "      <td>4</td>\n",
       "      <td>8.350918</td>\n",
       "      <td>6.945163</td>\n",
       "      <td>9.033554</td>\n",
       "      <td>6</td>\n",
       "    </tr>\n",
       "  </tbody>\n",
       "</table>\n",
       "</div>"
      ],
      "text/plain": [
       "   b          z          d          e  a\n",
       "0  0   4.131800   4.877901   4.218225  6\n",
       "1  7   8.025863   6.400827   7.811688  3\n",
       "2  3  11.042609  11.134788  10.959215  7\n",
       "3  3   6.480147   6.163588   3.292335  4\n",
       "4  4   8.350918   6.945163   9.033554  6"
      ]
     },
     "execution_count": 18,
     "metadata": {},
     "output_type": "execute_result"
    }
   ],
   "source": [
    "import numpy as np\n",
    "import pandas as pd\n",
    "\n",
    "np.random.seed(42)  # reproducibility\n",
    "\n",
    "n_sample = 1000\n",
    "\n",
    "# generate variables A and B as random integers between 0 and 10\n",
    "a = np.random.randint(0, 10, size=n_sample)\n",
    "b = np.random.randint(0, 10, size=n_sample)\n",
    "\n",
    "# generate variable Z as the sum of A + B with added noises\n",
    "z = a + b + np.random.normal(0, 1, size=n_sample)\n",
    "\n",
    "# generate variable D and E as functions of Z with added noise\n",
    "d = z + np.random.normal(0, 1, size=n_sample)\n",
    "e = z + np.random.normal(0, 1, size=n_sample)\n",
    "\n",
    "# put int dictionary\n",
    "data = {'b': b, 'z': z, 'd':d, 'e':e, 'a': a}\n",
    "\n",
    "df = pd.DataFrame(data)\n",
    "df.head(5)"
   ]
  },
  {
   "cell_type": "code",
   "execution_count": 411,
   "metadata": {},
   "outputs": [],
   "source": [
    "# save the df into our dataset folder\n",
    "df.to_csv('dataset/data.csv')"
   ]
  },
  {
   "cell_type": "markdown",
   "metadata": {},
   "source": [
    "### 3.1.2. Causal Discovery - No Library"
   ]
  },
  {
   "cell_type": "code",
   "execution_count": 19,
   "metadata": {},
   "outputs": [],
   "source": [
    "from itertools import chain, combinations\n",
    "import pingouin as pg\n",
    "\n",
    "vars_lst = list(df.columns)\n",
    "skeleton = list(combinations(vars_lst, 2))\n",
    "\n",
    "def skeleton_result(data, vars_lst, skeleton):\n",
    "    '''\n",
    "    Conducts conditional independence tests to determine the final skeleton graph and creates a skeleton table.\n",
    "\n",
    "    Parameters:\n",
    "        - data (DataFrame): DataFrame containing information about the data we want to reveal it's skeleton.\n",
    "        - vars_lst (list): List of variable names.\n",
    "        - skeleton (list): List of variable combinations representing potential edges in the skeleton graph.\n",
    "\n",
    "    Returns:\n",
    "        - skeleton_table (DataFrame): DataFrame containing information about the edges, conditioning sets, p-values, removal status, and unshielded triples.\n",
    "        - result (list): List of tuples representing the final skeleton graph edges after conditional independence tests.\n",
    "    '''\n",
    "    # we will remove edges one by one from this\n",
    "    result = list(combinations(vars_lst, 2))\n",
    "\n",
    "    # create the placeholder for the skeleton table\n",
    "    skeleton_table = pd.DataFrame(columns=['node_1', 'node_2', 'edges', 's', 'p-val', 'removed'])\n",
    "    i = 0\n",
    "\n",
    "    for x, y in skeleton:\n",
    "        \n",
    "        # then define other vars for the covariates / variables to control for the independence tests\n",
    "        other_vars = [var for var in vars_lst if var != x and var != y]\n",
    "        all_combinations = list(chain.from_iterable(combinations(other_vars, r) for r in range(len(other_vars) + 1)))\n",
    "        \n",
    "        for comb in all_combinations:\n",
    "            comb = list(comb)\n",
    "            # remove edges X-Y if X is independent of Y given a conditioning set S\n",
    "            # starting with S as the empty set S={} and increasing its size (cardinality) by 1 for every iteration.\n",
    "            p_val = pg.partial_corr(data=data, x=x, y=y, covar=comb)['p-val'].values[0]\n",
    "\n",
    "            skeleton_table.loc[i, 'node_1'] = x\n",
    "            skeleton_table.loc[i, 'node_2'] = y\n",
    "            skeleton_table.loc[i, 'edges'] = f'{x} - {y}'\n",
    "            skeleton_table.loc[i, 's'] = comb\n",
    "            skeleton_table.loc[i, 'p-val'] = p_val\n",
    "\n",
    "            i += 1\n",
    "\n",
    "            # eliminate as many edges as possible using conditional independence tests\n",
    "            if p_val > 0.05: \n",
    "                try:\n",
    "                    result.remove((x, y))\n",
    "                except ValueError:\n",
    "                    pass\n",
    "\n",
    "    # now we fill in all the blank data in the skeleton_table\n",
    "    # fill in the removed table with False, if it the edge hasn't been removed yet\n",
    "    skeleton_table['removed'] = True\n",
    "\n",
    "    for i in result:\n",
    "        pairs = ' - '.join(i)\n",
    "        skeleton_table.loc[skeleton_table['edges'] == pairs, 'removed'] = False\n",
    "\n",
    "    # create ind_corr list for the next step of determining the causal direction\n",
    "    ind_corr = skeleton_table[skeleton_table['p-val'] < 0.05].drop_duplicates('edges')['edges'].values\n",
    "\n",
    "    print(\"final skeleton graph:\", result)\n",
    "\n",
    "    return skeleton_table, ind_corr, result"
   ]
  },
  {
   "cell_type": "code",
   "execution_count": 22,
   "metadata": {},
   "outputs": [
    {
     "name": "stdout",
     "output_type": "stream",
     "text": [
      "final skeleton graph: [('b', 'z'), ('z', 'd'), ('z', 'e'), ('z', 'a')]\n"
     ]
    },
    {
     "data": {
      "text/html": [
       "<div>\n",
       "<style scoped>\n",
       "    .dataframe tbody tr th:only-of-type {\n",
       "        vertical-align: middle;\n",
       "    }\n",
       "\n",
       "    .dataframe tbody tr th {\n",
       "        vertical-align: top;\n",
       "    }\n",
       "\n",
       "    .dataframe thead th {\n",
       "        text-align: right;\n",
       "    }\n",
       "</style>\n",
       "<table border=\"1\" class=\"dataframe\">\n",
       "  <thead>\n",
       "    <tr style=\"text-align: right;\">\n",
       "      <th></th>\n",
       "      <th>edges</th>\n",
       "      <th>s</th>\n",
       "      <th>p-val</th>\n",
       "      <th>removed</th>\n",
       "    </tr>\n",
       "  </thead>\n",
       "  <tbody>\n",
       "    <tr>\n",
       "      <th>0</th>\n",
       "      <td>b - z</td>\n",
       "      <td>[]</td>\n",
       "      <td>0.0</td>\n",
       "      <td>False</td>\n",
       "    </tr>\n",
       "    <tr>\n",
       "      <th>1</th>\n",
       "      <td>b - z</td>\n",
       "      <td>[d]</td>\n",
       "      <td>0.0</td>\n",
       "      <td>False</td>\n",
       "    </tr>\n",
       "    <tr>\n",
       "      <th>2</th>\n",
       "      <td>b - z</td>\n",
       "      <td>[e]</td>\n",
       "      <td>0.0</td>\n",
       "      <td>False</td>\n",
       "    </tr>\n",
       "    <tr>\n",
       "      <th>3</th>\n",
       "      <td>b - z</td>\n",
       "      <td>[a]</td>\n",
       "      <td>0.0</td>\n",
       "      <td>False</td>\n",
       "    </tr>\n",
       "    <tr>\n",
       "      <th>4</th>\n",
       "      <td>b - z</td>\n",
       "      <td>[d, e]</td>\n",
       "      <td>0.000021</td>\n",
       "      <td>False</td>\n",
       "    </tr>\n",
       "    <tr>\n",
       "      <th>...</th>\n",
       "      <td>...</td>\n",
       "      <td>...</td>\n",
       "      <td>...</td>\n",
       "      <td>...</td>\n",
       "    </tr>\n",
       "    <tr>\n",
       "      <th>75</th>\n",
       "      <td>e - a</td>\n",
       "      <td>[d]</td>\n",
       "      <td>0.000028</td>\n",
       "      <td>True</td>\n",
       "    </tr>\n",
       "    <tr>\n",
       "      <th>76</th>\n",
       "      <td>e - a</td>\n",
       "      <td>[b, z]</td>\n",
       "      <td>0.932996</td>\n",
       "      <td>True</td>\n",
       "    </tr>\n",
       "    <tr>\n",
       "      <th>77</th>\n",
       "      <td>e - a</td>\n",
       "      <td>[b, d]</td>\n",
       "      <td>0.0</td>\n",
       "      <td>True</td>\n",
       "    </tr>\n",
       "    <tr>\n",
       "      <th>78</th>\n",
       "      <td>e - a</td>\n",
       "      <td>[z, d]</td>\n",
       "      <td>0.196497</td>\n",
       "      <td>True</td>\n",
       "    </tr>\n",
       "    <tr>\n",
       "      <th>79</th>\n",
       "      <td>e - a</td>\n",
       "      <td>[b, z, d]</td>\n",
       "      <td>0.965559</td>\n",
       "      <td>True</td>\n",
       "    </tr>\n",
       "  </tbody>\n",
       "</table>\n",
       "<p>80 rows × 4 columns</p>\n",
       "</div>"
      ],
      "text/plain": [
       "    edges          s     p-val  removed\n",
       "0   b - z         []       0.0    False\n",
       "1   b - z        [d]       0.0    False\n",
       "2   b - z        [e]       0.0    False\n",
       "3   b - z        [a]       0.0    False\n",
       "4   b - z     [d, e]  0.000021    False\n",
       "..    ...        ...       ...      ...\n",
       "75  e - a        [d]  0.000028     True\n",
       "76  e - a     [b, z]  0.932996     True\n",
       "77  e - a     [b, d]       0.0     True\n",
       "78  e - a     [z, d]  0.196497     True\n",
       "79  e - a  [b, z, d]  0.965559     True\n",
       "\n",
       "[80 rows x 4 columns]"
      ]
     },
     "metadata": {},
     "output_type": "display_data"
    },
    {
     "name": "stdout",
     "output_type": "stream",
     "text": [
      "edges that aren't independent: ['b - z' 'b - d' 'b - e' 'b - a' 'z - d' 'z - e' 'z - a' 'd - e' 'd - a'\n",
      " 'e - a']\n"
     ]
    }
   ],
   "source": [
    "skeleton_table, ind_corr, result = skeleton_result(df, vars_lst, skeleton)\n",
    "display(skeleton_table.sort_values(['removed', 'edges'])[['edges', 's', 'p-val', 'removed']])\n",
    "print(\"edges that aren't independent:\", ind_corr)"
   ]
  },
  {
   "cell_type": "markdown",
   "metadata": {},
   "source": [
    "### 3.1.3. Determining Causal Directions from the Skeleton\n",
    "\n",
    "After establishing the final skeleton graph, the next step is to determine the direction of the arrows. There are two main approaches:\n",
    "\n",
    "- **Utilizing Time Dependencies:** If A occurs before Z, the arrow points from A to Z.\n",
    "- **Collider Rule:** Utilizing the collider structures to orient the graph.\n",
    "\n",
    "While the time dependencies are straightforward, let's delve into the collider rule method.\n",
    "\n",
    "The algorithm examines all **unshielded triples** in the skeleton. An unshielded triple, like A-Z-B, meets three criteria:\n",
    "\n",
    "1. Node A is connected to node Z.\n",
    "2. Node Z is connected to node B.\n",
    "3. There is no direct edge between nodes A and B.\n",
    "\n",
    "According to the collider rule, if Z was not part of the conditioning set in the statistical test that removed the A-B link, then the arrows must point to Z. Why? Without this, there would be a dependence between A and B (by d-separation), which was not observed. This aligns with the true causal graph.\n",
    "\n",
    "This oriented collider structure aids in determining other orientations. For instance, there is no such collider for A-Z-E or other remaining triples. If there were a directed edge from E to Z, then A and E should be independent without any other variables (S={}). However, we found them to be independent given Z in the skeleton phase. Thus, we assume the arrow goes from Z to E. The same logic applies to the Z to D edge. This process allows us to direct all remaining edges and discover the true causal graph.\n",
    "\n",
    "Now, let's move to the code."
   ]
  },
  {
   "cell_type": "code",
   "execution_count": 41,
   "metadata": {},
   "outputs": [],
   "source": [
    "def causal_direct_collider(skeleton_table, nodes, collider):\n",
    "    '''\n",
    "    Infers causal directions between nodes based on the skeleton_table with collider rule.\n",
    "\n",
    "    Parameters:\n",
    "        - skeleton_table (pd.DataFrame): DataFrame containing skeleton edges and other relevant data.\n",
    "        - nodes (list): List of nodes to analyze.\n",
    "        - collider (str): Collider variable to consider in causal inference.\n",
    "\n",
    "    Returns:\n",
    "        - pd.DataFrame: DataFrame containing inferred causal directions.\n",
    "    '''\n",
    "    # initialize empty DataFrames to store intermediate and final results\n",
    "    causal_table = pd.DataFrame(columns=['from', 'dir', 'to'])\n",
    "    final_causal_table = pd.DataFrame(columns=['from', 'dir', 'to'])\n",
    "\n",
    "    # iterate over each pair of nodes\n",
    "    for node in nodes:\n",
    "\n",
    "        # filter the skeleton table to get relevant edges for the current node pair\n",
    "        result = skeleton_table[\n",
    "            (skeleton_table['node_1'].isin([node[0], node[1]])) & \n",
    "            (skeleton_table['node_2'].isin([node[1], node[0]]))\n",
    "        ]\n",
    "        \n",
    "        records = []\n",
    "\n",
    "        # check if there are significant edges for the current node pair\n",
    "        # if there are significant edges, add them to the records\n",
    "        if len(result[(result['p-val'] > 0.05) & result['s'].apply(lambda x: collider not in x)]) > 0:\n",
    "            \n",
    "            for n in node:\n",
    "                records.append({'from': n, 'to': collider})\n",
    "\n",
    "            causal_table = pd.concat([causal_table] + [pd.DataFrame(records)], ignore_index=True)\n",
    "\n",
    "        # if there are no significant edges, add the reverse direction to the records\n",
    "        else:\n",
    "            result = result.loc[result['s'].values == 'z', 'p-val'] > 0.05\n",
    "            for n in node:\n",
    "                new_record = {'from': collider, 'to': n}\n",
    "                records.append(new_record)\n",
    "\n",
    "                causal_table = pd.concat([causal_table] + [pd.DataFrame(records)], ignore_index=True)\n",
    "        \n",
    "        final_causal_table = pd.concat([final_causal_table] + [causal_table])\n",
    "        final_causal_table = final_causal_table.drop_duplicates(ignore_index=True)\n",
    "\n",
    "\n",
    "    # remove edges that violate the causal direction\n",
    "    # meaning that, prioritize the first rule, then second\n",
    "    # if there's a conflict, then prioritize the first rule\n",
    "\n",
    "    for i in range(len(final_causal_table)):\n",
    "        if final_causal_table.loc[i, 'from'] == collider:\n",
    "            if final_causal_table.loc[i, 'to'] in final_causal_table['from'].values:\n",
    "                final_causal_table.drop(i, inplace=True)\n",
    "\n",
    "    # last step, tidying up the dataframe\n",
    "                \n",
    "    final_causal_table['dir'] = '->'\n",
    "    final_causal_table.reset_index(drop=True, inplace=True)\n",
    "    \n",
    "    # put it into a list so we can pass it directly later for causal effect size\n",
    "    final_causal_list = list(zip(final_causal_table['from'], final_causal_table['to']))\n",
    "    print(final_causal_list)\n",
    "\n",
    "    return final_causal_table, final_causal_list"
   ]
  },
  {
   "cell_type": "code",
   "execution_count": 43,
   "metadata": {},
   "outputs": [
    {
     "name": "stdout",
     "output_type": "stream",
     "text": [
      "[('b', 'z'), ('a', 'z'), ('z', 'd'), ('z', 'e')]\n"
     ]
    },
    {
     "data": {
      "text/html": [
       "<div>\n",
       "<style scoped>\n",
       "    .dataframe tbody tr th:only-of-type {\n",
       "        vertical-align: middle;\n",
       "    }\n",
       "\n",
       "    .dataframe tbody tr th {\n",
       "        vertical-align: top;\n",
       "    }\n",
       "\n",
       "    .dataframe thead th {\n",
       "        text-align: right;\n",
       "    }\n",
       "</style>\n",
       "<table border=\"1\" class=\"dataframe\">\n",
       "  <thead>\n",
       "    <tr style=\"text-align: right;\">\n",
       "      <th></th>\n",
       "      <th>from</th>\n",
       "      <th>dir</th>\n",
       "      <th>to</th>\n",
       "    </tr>\n",
       "  </thead>\n",
       "  <tbody>\n",
       "    <tr>\n",
       "      <th>0</th>\n",
       "      <td>b</td>\n",
       "      <td>-&gt;</td>\n",
       "      <td>z</td>\n",
       "    </tr>\n",
       "    <tr>\n",
       "      <th>1</th>\n",
       "      <td>a</td>\n",
       "      <td>-&gt;</td>\n",
       "      <td>z</td>\n",
       "    </tr>\n",
       "    <tr>\n",
       "      <th>2</th>\n",
       "      <td>z</td>\n",
       "      <td>-&gt;</td>\n",
       "      <td>d</td>\n",
       "    </tr>\n",
       "    <tr>\n",
       "      <th>3</th>\n",
       "      <td>z</td>\n",
       "      <td>-&gt;</td>\n",
       "      <td>e</td>\n",
       "    </tr>\n",
       "  </tbody>\n",
       "</table>\n",
       "</div>"
      ],
      "text/plain": [
       "  from dir to\n",
       "0    b  ->  z\n",
       "1    a  ->  z\n",
       "2    z  ->  d\n",
       "3    z  ->  e"
      ]
     },
     "execution_count": 43,
     "metadata": {},
     "output_type": "execute_result"
    }
   ],
   "source": [
    "causal_table, causal_list = causal_direct_collider(skeleton_table, [['b', 'a'], ['a', 'd'], ['b', 'e'], ['d', 'e']], collider='z')\n",
    "causal_table"
   ]
  },
  {
   "cell_type": "markdown",
   "metadata": {},
   "source": [
    "Completed! We have conducted causal inference analysis using the PC algorithm. To simplify the process and enable you to follow along independently, I have created a **Python library for this purpose**, which you can find in the app folder. Below, I will demonstrate how to invoke the library and perform the analysis, similar to the example above."
   ]
  },
  {
   "cell_type": "code",
   "execution_count": 25,
   "metadata": {},
   "outputs": [
    {
     "name": "stdout",
     "output_type": "stream",
     "text": [
      "final skeleton graph: [('b', 'z'), ('z', 'd'), ('z', 'e'), ('z', 'a')]\n"
     ]
    }
   ],
   "source": [
    "import app.causal_discovery as cd\n",
    "\n",
    "# invoke a causal discovery instance\n",
    "# then we can print the result and save it into the skeleton_table\n",
    "\n",
    "cd_instance = cd.CausalDiscovery(data=df, vars_lst=vars_lst, skeleton=skeleton)\n",
    "skeleton_table, _, _ = cd_instance.skeleton_result()"
   ]
  },
  {
   "cell_type": "code",
   "execution_count": 26,
   "metadata": {},
   "outputs": [
    {
     "data": {
      "text/html": [
       "<div>\n",
       "<style scoped>\n",
       "    .dataframe tbody tr th:only-of-type {\n",
       "        vertical-align: middle;\n",
       "    }\n",
       "\n",
       "    .dataframe tbody tr th {\n",
       "        vertical-align: top;\n",
       "    }\n",
       "\n",
       "    .dataframe thead th {\n",
       "        text-align: right;\n",
       "    }\n",
       "</style>\n",
       "<table border=\"1\" class=\"dataframe\">\n",
       "  <thead>\n",
       "    <tr style=\"text-align: right;\">\n",
       "      <th></th>\n",
       "      <th>from</th>\n",
       "      <th>dir</th>\n",
       "      <th>to</th>\n",
       "    </tr>\n",
       "  </thead>\n",
       "  <tbody>\n",
       "    <tr>\n",
       "      <th>0</th>\n",
       "      <td>b</td>\n",
       "      <td>-&gt;</td>\n",
       "      <td>z</td>\n",
       "    </tr>\n",
       "    <tr>\n",
       "      <th>1</th>\n",
       "      <td>a</td>\n",
       "      <td>-&gt;</td>\n",
       "      <td>z</td>\n",
       "    </tr>\n",
       "    <tr>\n",
       "      <th>2</th>\n",
       "      <td>z</td>\n",
       "      <td>-&gt;</td>\n",
       "      <td>d</td>\n",
       "    </tr>\n",
       "    <tr>\n",
       "      <th>3</th>\n",
       "      <td>z</td>\n",
       "      <td>-&gt;</td>\n",
       "      <td>e</td>\n",
       "    </tr>\n",
       "  </tbody>\n",
       "</table>\n",
       "</div>"
      ],
      "text/plain": [
       "  from dir to\n",
       "0    b  ->  z\n",
       "1    a  ->  z\n",
       "2    z  ->  d\n",
       "3    z  ->  e"
      ]
     },
     "execution_count": 26,
     "metadata": {},
     "output_type": "execute_result"
    }
   ],
   "source": [
    "nodes = [['b', 'a'], ['a', 'd'], ['b', 'e'], ['d', 'e']]\n",
    "collider = 'z'\n",
    "\n",
    "# after we call the skeleton_result() method to the instance, it will save the skeleton_table to the cd_instance\n",
    "# then we can call the causal_direct_collider() method to know the causal direction\n",
    "\n",
    "cd_instance.causal_direct_collider(nodes, collider)"
   ]
  },
  {
   "cell_type": "markdown",
   "metadata": {},
   "source": [
    "### 3.1.4. Causal Discovery - PGMpy\n",
    "\n",
    "The code above provides a detailed, step-by-step explanation of how the PC algorithm works, helping to understand the concept behind it. However, for a more efficient approach, we can use the `pgmpy` library, a **Python library designed for working with Probabilistic Graphical Models**. Using this library, we can implement the PC algorithm by simply passing the data to the `PC` class. The following code demonstrates this simplified implementation."
   ]
  },
  {
   "cell_type": "code",
   "execution_count": 28,
   "metadata": {},
   "outputs": [
    {
     "data": {
      "application/vnd.jupyter.widget-view+json": {
       "model_id": "bd14b2768fba4679813b9cbee42db0e1",
       "version_major": 2,
       "version_minor": 0
      },
      "text/plain": [
       "  0%|          | 0/5 [00:00<?, ?it/s]"
      ]
     },
     "metadata": {},
     "output_type": "display_data"
    },
    {
     "name": "stdout",
     "output_type": "stream",
     "text": [
      "Edges of the Estimated Causal Graph:\n",
      "[('b', 'z'), ('z', 'd'), ('z', 'e'), ('a', 'z')]\n"
     ]
    }
   ],
   "source": [
    "from pgmpy.estimators import PC\n",
    "\n",
    "est = PC(data=df)\n",
    "model = est.estimate(ci_test='pearsonr')\n",
    "\n",
    "print(\"Edges of the Estimated Causal Graph:\")\n",
    "print(model.edges())"
   ]
  },
  {
   "cell_type": "markdown",
   "metadata": {},
   "source": []
  },
  {
   "cell_type": "markdown",
   "metadata": {},
   "source": [
    "# 4. Causal Effect Size\n",
    "\n",
    "After identifying causal relationships, the next step is to estimate the magnitudes of these effects. Several methodologies can be employed:\n",
    "\n",
    "1. **Linear Regression:** This method can be used if the data allows. For each identified causal relationship, regress the dependent variable on the independent variable(s) to estimate the effect size.\n",
    "\n",
    "2. **Structural Equation Modeling (SEM):** SEM is another approach to estimate effect sizes. It involves specifying a model based on the causal structure and then estimating parameters to determine the effect sizes.\n",
    "\n",
    "3. **Path Analysis:** Path analysis, a subset of SEM, focuses on estimating direct and indirect effects. It is useful for quantifying the effect sizes of identified causal paths.\n",
    "\n",
    "4. **Standardized Coefficients:** In linear regression or SEM, standardizing coefficients can make them comparable across different variables, aiding in understanding the relative importance of different causal paths.\n",
    "\n",
    "5. **Bayesian Methods:** Bayesian methods provide a posterior distribution of effect sizes, offering a range of plausible values along with their uncertainties.\n",
    "\n",
    "Since linear regression is relatively easy to perform, this notebook will focus on methodologies that are less commonly adopted due to their complexity: **Bayesian Methods and SEM + Path Analysis.** These approaches offer more nuanced insights but require a deeper understanding of their underlying principles and methodologies."
   ]
  },
  {
   "cell_type": "markdown",
   "metadata": {},
   "source": [
    "## 4.1. Bayesian Methods\n",
    "\n",
    "Here, we will approach the problem using the Bayesian approach, which differs from the Frequentist approach in its underlying philosophy. In Bayesian inference, we update our beliefs about the parameters of interest (the posterior) based on both our prior beliefs (the prior), the evidence or data we have, and the likelihood function which represents the probability of observing the data given specific values of the parameters. This approach allows us to incorporate existing knowledge or assumptions into our analysis and update them as we gather more evidence. By contrast, the Frequentist approach typically does not involve prior beliefs and focuses on the frequency or probability of observed data under certain assumptions.\n",
    "\n",
    "One challenging aspect of calculations in the Bayesian approach is the need to specify the prior distribution. It's important to note that different distributions require different classes in the PGMpy library. I suggest referring to their documentation for more details.\n",
    "\n",
    "For categorical data, you can refer to the Bayesian method documentation here: [Bayesian Method for Categorical Data](https://pgmpy.org/param_estimator/bayesian_est.html). For continuous data, follow the instructions provided in the second link: [Bayesian Method for Continuous Data](https://pgmpy.org/detailed_notebooks/7.%20Parameterizing%20with%20Continuous%20Variables.html). Since our data is continuous, we will follow the instructions from the second link.\n",
    "\n",
    "Before moving forward, let's talk a little bit about the concept of **Bayesian Network** and why is it important for us to understand about it."
   ]
  },
  {
   "cell_type": "markdown",
   "metadata": {},
   "source": [
    "### 4.1.1. Bayesian Network\n",
    "\n",
    "By Wikipeida, Bayesian network is defined as a probabilistic graphical model that represents a set of variables and their conditional dependencies via a directed acyclic graph (DAG). So, Bayesian network consists of two key components:\n",
    "\n",
    "- **Directed Acyclic Graph (DAG):** This graph depicts the causal structure. Variables are represented by nodes, and arrows between nodes indicate causal relationships. A variable can only be directly influenced by its parent nodes in the graph (acyclic means no loops exist).\n",
    "- **Conditional Probability Distributions (CPDs)**: Each node in the BN has a CPD associated with it. This CPD specifies the probability distribution of that node's value given the values of its parent nodes.\n",
    "\n",
    "We already discussed the DAG previously in depth. But, what does actually CPD mean?\n",
    "\n",
    "A CPD is a mathematical object that represents the **probability distribution of a single child variable in a BN given the values of its parent nodes in the DAG.** It essentially tells you \"how likely\" a specific value for the child node is, considering the values of its parents.\n",
    "\n",
    "The format of the CPD depends on the type of variable it represents:\n",
    "- **Discrete Variables:** The CPD is typically a table that specifies the probability of each possible value for the child node given every combination of values for its parent nodes.\n",
    "- **Continuous Variables:** Specific CPDs like LinearGaussianCPDs are used. These models the relationship between the child node and its parents as a linear function with added Gaussian noise (normal distribution).\n",
    "\n",
    "If all of these still sound confusing for you, let's take a look at an example.\n",
    "\n",
    "#### Example: Disease, Symptom, and Doctor Visit:\n",
    "\n",
    "Let's revisit the BN example with three variables: Disease (D), Symptom (S), and Doctor Visit (V). \n",
    "\n",
    "- The DAG is D -> S, D -> V (disease causes both symptoms and doctor visits). \n",
    "- Imagine Disease (D) can be either \"Yes\" or \"No,\" Symptom (S) can be \"Yes\" or \"No,\" and Doctor Visit (V) can be \"Yes\" or \"No.\" \n",
    "\n",
    "The CPD for Symptom (S) would be a table like this:\n",
    "\n",
    "| Disease (D) | P(Symptom=Yes \\| D) | P(Symptom=No \\| D) |\n",
    "|-------------|----------------------|---------------------|\n",
    "| Yes         | 0.8 (80% chance of symptom if disease is present) | 0.2 (20% chance of no symptom) |\n",
    "| No          | 0.1 (10% chance of symptom even without disease) | 0.9 (90% chance of no symptom) |\n",
    "\n",
    "The CPDs would specify probabilities like \"P(Symptom=Yes | Disease=Yes)\" or \"P(Doctor Visit=Yes | Disease=No)\".\n",
    "\n",
    "So, why is it important to learn Bayesian Network? Causal inference aims to understand how changes in one variable cause changes in another. BNs are powerful tools for causal inference because:\n",
    "\n",
    "- **They encode causal structure:** The DAG explicitly represents which variables influence others, aiding in reasoning about cause-and-effect relationships.\n",
    "- **They allow for probabilistic reasoning:** By combining the CPDs with Bayes' theorem, you can calculate the probability of any variable's value given evidence (observations) about other variables. This helps estimate the effect of one variable on another.\n",
    "\n",
    "Next, how can we calculate these CPDs? Now, let's take a look at the second concept: Bayesian Network Factorization."
   ]
  },
  {
   "cell_type": "markdown",
   "metadata": {},
   "source": [
    "### 4.1.2. Bayesian Network Factorization\n",
    "\n",
    "Bayesian Network Factorization is a principle in Bayesian Networks that expresses the joint probability distribution (JPD) of all variables in the network as a product of smaller conditional probability distributions (CPDs).\n",
    "\n",
    "- The JPD represents the probability of all possible combinations of values for all variables in the BN. It captures the complete picture of how the variables are related probabilistically.\n",
    "- Factorization breaks down the JPD into smaller, more manageable CPDs. Each CPD represents the probability distribution of a single variable given the values of its parent nodes in the Directed Acyclic Graph (DAG) of the BN.\n",
    "- By multiplying these individual CPDs, based on the specific structure of the DAG, you can reconstruct the full JPD.\n",
    "\n",
    "The general formula for Bayesian Network Factorization can be expressed as follows:\n",
    "\n",
    "$P(x_1, x_2, ..., x_n) = \\prod P(x_i | \\text{Parents}(x_i))$\n",
    "\n",
    "where:\n",
    "\n",
    "- $x_1, x_2, ..., x_n$ represent all the variables in the network.\n",
    "- $\\prod$ (product symbol) indicates that we're multiplying all the terms together.\n",
    "- $P(x_i | \\text{Parents}(x_i)$ is the CPD for variable $x_i$, conditioned on the values of its parent nodes in the DAG. $\\text{Parents}(x_i)$ refers to the set of parent nodes for variable $x_i$.\n",
    "\n",
    "Let's take an example to make it easier to grasp.\n",
    "\n",
    "Imagine a BN with four variables:\n",
    "\n",
    "- Weather (W): Can be \"Sunny\" or \"Rainy\"\n",
    "- Sprinklers (S): Can be \"On\" or \"Off\"\n",
    "- Grass Wetness (G): Can be \"Wet\" or \"Dry\"\n",
    "- Car Wash (C): Can be \"Yes\" or \"No\""
   ]
  },
  {
   "cell_type": "code",
   "execution_count": 131,
   "metadata": {},
   "outputs": [
    {
     "data": {
      "image/png": "[encoded data removed]",
      "text/plain": [
       "<Figure size 181.102x299.213 with 1 Axes>"
      ]
     },
     "metadata": {},
     "output_type": "display_data"
    }
   ],
   "source": [
    "# let's create the causal graph first\n",
    "\n",
    "V = PGM(grid_unit=3.0)\n",
    "\n",
    "V.add_node(\"W\", \"W\", 1.5, 1)\n",
    "V.add_node(\"S\", \"S\", 1, 0)\n",
    "V.add_node(\"C\", \"C\", 2, 0)\n",
    "V.add_node(\"G\", \"G\", 1.5, -1)\n",
    "\n",
    "V.add_edge(\"W\", \"S\")\n",
    "V.add_edge(\"W\", \"C\")\n",
    "V.add_edge(\"S\", \"G\")\n",
    "V.add_edge(\"C\", \"G\")\n",
    "\n",
    "V.render()\n",
    "plt.show()"
   ]
  },
  {
   "cell_type": "markdown",
   "metadata": {},
   "source": [
    "Using the general formula for Bayesian Network Factorization, we can express the joint probability of all variables (P(W, S, G, C)) as:\n",
    "\n",
    "$P(W, S, G, C) = P(W) * P(S | W) * P(C) * P(G | W, S, C)$\n",
    "\n",
    "- **P(W):** This is the marginal probability distribution of Weather (independent of other variables). It represents the likelihood of it being sunny or rainy irrespective of the other factors.\n",
    "- **P(S | W):** This is the CPD for Sprinklers conditioned on Weather. It specifies the probability of the sprinklers being on or off given the weather (sunny or rainy). For example, it might be more likely to use sprinklers if it's sunny.\n",
    "- **P(C):** This is the marginal probability distribution of Car Wash (independent of other variables). It represents the likelihood of having a car wash irrespective of the weather or sprinkler usage.\n",
    "- **P(C | W):** This is the CPD for Car Wash conditioned on Weather.\n",
    "- **P(G | W, S, C):** This is the most complex term. It's the CPD for Grass Wetness conditioned on all its parent nodes: Weather (W), Sprinklers (S), and Car Wash (C). \n",
    "\n",
    "Once you have defined the specific CPDs for each variable (which might involve tables for discrete variables or parameters for continuous variables like LinearGaussianCPDs), you can use the factorization formula to calculate the probability of any combination of values for all variables. For instance, you could calculate the probability of having wet grass (G=\"Wet\") given sunny weather (W=\"Sunny\"), sprinklers off (S=\"Off\"), and no car wash (C=\"No\"). This would involve using the specific values from the relevant CPDs (P(W=\"Sunny\"), P(S=\"Off\" | W=\"Sunny\"), and P(G=\"Wet\" | W=\"Sunny\", S=\"Off\", C=\"No\")) and multiplying them together according to the factorization formula.\n",
    "\n",
    "So why do we need Bayesian Network Factorization?\n",
    "\n",
    "- **Efficiency:** Breaking down the joint probability into smaller CPDs makes calculations more manageable, especially for large networks.\n",
    "- **Transparency:** The factorization highlights the influence of parent nodes on their child nodes, making the causal structure clearer.\n",
    "- **Inference:** You can use the factorization and Bayes' theorem to perform probabilistic reasoning and causal inference tasks within the BN."
   ]
  },
  {
   "cell_type": "markdown",
   "metadata": {},
   "source": [
    "### 4.1.3. Theory to the Action\n",
    "\n",
    "Now, let's apply the theory to our previous data. Manual calculations would be challenging, so we'll use the PGMpy library instead. In this section, we will:\n",
    "\n",
    "1. Create a regression model using the linear model from statsmodels as the benchmark.\n",
    "2. Define the model using a Bayesian Network.\n",
    "3. Perform inference from the Bayesian Network and compare it with regression model.\n",
    "\n",
    "Note that the approach for specifying data for continuous and categorical variables differs. I recommend referring to the PGMpy documentation for a better understanding of how to handle categorical variables."
   ]
  },
  {
   "cell_type": "code",
   "execution_count": 135,
   "metadata": {},
   "outputs": [
    {
     "data": {
      "text/html": [
       "<div>\n",
       "<style scoped>\n",
       "    .dataframe tbody tr th:only-of-type {\n",
       "        vertical-align: middle;\n",
       "    }\n",
       "\n",
       "    .dataframe tbody tr th {\n",
       "        vertical-align: top;\n",
       "    }\n",
       "\n",
       "    .dataframe thead th {\n",
       "        text-align: right;\n",
       "    }\n",
       "</style>\n",
       "<table border=\"1\" class=\"dataframe\">\n",
       "  <thead>\n",
       "    <tr style=\"text-align: right;\">\n",
       "      <th></th>\n",
       "      <th>b</th>\n",
       "      <th>z</th>\n",
       "      <th>d</th>\n",
       "      <th>e</th>\n",
       "      <th>a</th>\n",
       "    </tr>\n",
       "  </thead>\n",
       "  <tbody>\n",
       "    <tr>\n",
       "      <th>0</th>\n",
       "      <td>0</td>\n",
       "      <td>4.131800</td>\n",
       "      <td>4.877901</td>\n",
       "      <td>4.218225</td>\n",
       "      <td>6</td>\n",
       "    </tr>\n",
       "    <tr>\n",
       "      <th>1</th>\n",
       "      <td>7</td>\n",
       "      <td>8.025863</td>\n",
       "      <td>6.400827</td>\n",
       "      <td>7.811688</td>\n",
       "      <td>3</td>\n",
       "    </tr>\n",
       "    <tr>\n",
       "      <th>2</th>\n",
       "      <td>3</td>\n",
       "      <td>11.042609</td>\n",
       "      <td>11.134788</td>\n",
       "      <td>10.959215</td>\n",
       "      <td>7</td>\n",
       "    </tr>\n",
       "    <tr>\n",
       "      <th>3</th>\n",
       "      <td>3</td>\n",
       "      <td>6.480147</td>\n",
       "      <td>6.163588</td>\n",
       "      <td>3.292335</td>\n",
       "      <td>4</td>\n",
       "    </tr>\n",
       "    <tr>\n",
       "      <th>4</th>\n",
       "      <td>4</td>\n",
       "      <td>8.350918</td>\n",
       "      <td>6.945163</td>\n",
       "      <td>9.033554</td>\n",
       "      <td>6</td>\n",
       "    </tr>\n",
       "  </tbody>\n",
       "</table>\n",
       "</div>"
      ],
      "text/plain": [
       "   b          z          d          e  a\n",
       "0  0   4.131800   4.877901   4.218225  6\n",
       "1  7   8.025863   6.400827   7.811688  3\n",
       "2  3  11.042609  11.134788  10.959215  7\n",
       "3  3   6.480147   6.163588   3.292335  4\n",
       "4  4   8.350918   6.945163   9.033554  6"
      ]
     },
     "metadata": {},
     "output_type": "display_data"
    },
    {
     "data": {
      "text/plain": [
       "[('b', 'z'), ('a', 'z'), ('z', 'd'), ('z', 'e')]"
      ]
     },
     "metadata": {},
     "output_type": "display_data"
    }
   ],
   "source": [
    "# refresh and take a look again at the data we have\n",
    "\n",
    "display(df.head())\n",
    "display(causal_list)"
   ]
  },
  {
   "cell_type": "code",
   "execution_count": 301,
   "metadata": {},
   "outputs": [
    {
     "data": {
      "text/html": [
       "<table class=\"simpletable\">\n",
       "<caption>OLS Regression Results</caption>\n",
       "<tr>\n",
       "  <th>Dep. Variable:</th>            <td>z</td>        <th>  R-squared:         </th> <td>   0.943</td>\n",
       "</tr>\n",
       "<tr>\n",
       "  <th>Model:</th>                   <td>OLS</td>       <th>  Adj. R-squared:    </th> <td>   0.943</td>\n",
       "</tr>\n",
       "<tr>\n",
       "  <th>Method:</th>             <td>Least Squares</td>  <th>  F-statistic:       </th> <td>   8258.</td>\n",
       "</tr>\n",
       "<tr>\n",
       "  <th>Date:</th>             <td>Thu, 21 Mar 2024</td> <th>  Prob (F-statistic):</th>  <td>  0.00</td> \n",
       "</tr>\n",
       "<tr>\n",
       "  <th>Time:</th>                 <td>10:56:39</td>     <th>  Log-Likelihood:    </th> <td> -1435.1</td>\n",
       "</tr>\n",
       "<tr>\n",
       "  <th>No. Observations:</th>      <td>  1000</td>      <th>  AIC:               </th> <td>   2876.</td>\n",
       "</tr>\n",
       "<tr>\n",
       "  <th>Df Residuals:</th>          <td>   997</td>      <th>  BIC:               </th> <td>   2891.</td>\n",
       "</tr>\n",
       "<tr>\n",
       "  <th>Df Model:</th>              <td>     2</td>      <th>                     </th>     <td> </td>   \n",
       "</tr>\n",
       "<tr>\n",
       "  <th>Covariance Type:</th>      <td>nonrobust</td>    <th>                     </th>     <td> </td>   \n",
       "</tr>\n",
       "</table>\n",
       "<table class=\"simpletable\">\n",
       "<tr>\n",
       "    <td></td>       <th>coef</th>     <th>std err</th>      <th>t</th>      <th>P>|t|</th>  <th>[0.025</th>    <th>0.975]</th>  \n",
       "</tr>\n",
       "<tr>\n",
       "  <th>const</th> <td>    0.0094</td> <td>    0.077</td> <td>    0.123</td> <td> 0.902</td> <td>   -0.141</td> <td>    0.160</td>\n",
       "</tr>\n",
       "<tr>\n",
       "  <th>a</th>     <td>    0.9938</td> <td>    0.011</td> <td>   89.868</td> <td> 0.000</td> <td>    0.972</td> <td>    1.015</td>\n",
       "</tr>\n",
       "<tr>\n",
       "  <th>b</th>     <td>    1.0085</td> <td>    0.011</td> <td>   91.482</td> <td> 0.000</td> <td>    0.987</td> <td>    1.030</td>\n",
       "</tr>\n",
       "</table>\n",
       "<table class=\"simpletable\">\n",
       "<tr>\n",
       "  <th>Omnibus:</th>       <td> 0.106</td> <th>  Durbin-Watson:     </th> <td>   1.961</td>\n",
       "</tr>\n",
       "<tr>\n",
       "  <th>Prob(Omnibus):</th> <td> 0.948</td> <th>  Jarque-Bera (JB):  </th> <td>   0.081</td>\n",
       "</tr>\n",
       "<tr>\n",
       "  <th>Skew:</th>          <td>-0.022</td> <th>  Prob(JB):          </th> <td>   0.960</td>\n",
       "</tr>\n",
       "<tr>\n",
       "  <th>Kurtosis:</th>      <td> 3.007</td> <th>  Cond. No.          </th> <td>    16.8</td>\n",
       "</tr>\n",
       "</table><br/><br/>Notes:<br/>[1] Standard Errors assume that the covariance matrix of the errors is correctly specified."
      ],
      "text/plain": [
       "<class 'statsmodels.iolib.summary.Summary'>\n",
       "\"\"\"\n",
       "                            OLS Regression Results                            \n",
       "==============================================================================\n",
       "Dep. Variable:                      z   R-squared:                       0.943\n",
       "Model:                            OLS   Adj. R-squared:                  0.943\n",
       "Method:                 Least Squares   F-statistic:                     8258.\n",
       "Date:                Thu, 21 Mar 2024   Prob (F-statistic):               0.00\n",
       "Time:                        10:56:39   Log-Likelihood:                -1435.1\n",
       "No. Observations:                1000   AIC:                             2876.\n",
       "Df Residuals:                     997   BIC:                             2891.\n",
       "Df Model:                           2                                         \n",
       "Covariance Type:            nonrobust                                         \n",
       "==============================================================================\n",
       "                 coef    std err          t      P>|t|      [0.025      0.975]\n",
       "------------------------------------------------------------------------------\n",
       "const          0.0094      0.077      0.123      0.902      -0.141       0.160\n",
       "a              0.9938      0.011     89.868      0.000       0.972       1.015\n",
       "b              1.0085      0.011     91.482      0.000       0.987       1.030\n",
       "==============================================================================\n",
       "Omnibus:                        0.106   Durbin-Watson:                   1.961\n",
       "Prob(Omnibus):                  0.948   Jarque-Bera (JB):                0.081\n",
       "Skew:                          -0.022   Prob(JB):                        0.960\n",
       "Kurtosis:                       3.007   Cond. No.                         16.8\n",
       "==============================================================================\n",
       "\n",
       "Notes:\n",
       "[1] Standard Errors assume that the covariance matrix of the errors is correctly specified.\n",
       "\"\"\""
      ]
     },
     "execution_count": 301,
     "metadata": {},
     "output_type": "execute_result"
    }
   ],
   "source": [
    "# let's use a simple model first using a linear regression as a benchmark and comparison\n",
    "# a -> z and b -> z\n",
    "\n",
    "import statsmodels.api as sm\n",
    "\n",
    "X = df[['a', 'b']]\n",
    "X = sm.add_constant(X)\n",
    "y = df['z']\n",
    "\n",
    "model = sm.OLS(y, X).fit()\n",
    "model.summary()"
   ]
  },
  {
   "cell_type": "code",
   "execution_count": 296,
   "metadata": {},
   "outputs": [],
   "source": [
    "# now, let's use 10% sample of the data for the prior distribution\n",
    "import math\n",
    "\n",
    "mean_prior = {}\n",
    "std_prior = {}\n",
    "\n",
    "for col in df.columns:\n",
    "    mean_prior[col] = df[col].sample(100).mean()\n",
    "    std_prior[col] = math.sqrt(df[col].sample(100).var())"
   ]
  },
  {
   "cell_type": "code",
   "execution_count": 302,
   "metadata": {},
   "outputs": [
    {
     "name": "stderr",
     "output_type": "stream",
     "text": [
      "WARNING:pgmpy:Replacing existing CPD for b\n",
      "WARNING:pgmpy:Replacing existing CPD for z\n",
      "WARNING:pgmpy:Replacing existing CPD for a\n",
      "WARNING:pgmpy:Replacing existing CPD for d\n",
      "WARNING:pgmpy:Replacing existing CPD for e\n"
     ]
    }
   ],
   "source": [
    "from pgmpy.models import BayesianNetwork\n",
    "from pgmpy.factors.continuous import ContinuousFactor\n",
    "from scipy.stats import norm\n",
    "\n",
    "# now, let's specify and build the model\n",
    "\n",
    "# specify prior probability distribution for all variables\n",
    "# assuming that all of the variables are normally distributed\n",
    "def pdf_a(x, mean=mean_prior['a'], std=std_prior['a']):\n",
    "    return norm.pdf(x, loc=mean, scale=std)\n",
    "\n",
    "def pdf_b(x, mean=mean_prior['b'], std=std_prior['b']):\n",
    "    return norm.pdf(x, loc=mean, scale=std)\n",
    "\n",
    "def pdf_z(x, mean=mean_prior['z'], std=std_prior['z']):\n",
    "    return norm.pdf(x, loc=mean, scale=std)\n",
    "\n",
    "def pdf_d(x, mean=mean_prior['d'], std=std_prior['d']):\n",
    "    return norm.pdf(x, loc=mean, scale=std)\n",
    "\n",
    "def pdf_e(x, mean=mean_prior['e'], std=std_prior['e']):\n",
    "    return norm.pdf(x, loc=mean, scale=std)\n",
    "\n",
    "model = BayesianNetwork(causal_list)\n",
    "\n",
    "# Define the CPDs with the custom PDF functions\n",
    "cpd_a = ContinuousFactor(['a'], pdf_a)\n",
    "cpd_b = ContinuousFactor(['b'], pdf_b)\n",
    "cpd_z = ContinuousFactor(['z'], pdf_z)\n",
    "cpd_d = ContinuousFactor(['d'], pdf_d)\n",
    "cpd_e = ContinuousFactor(['e'], pdf_d)\n",
    "\n",
    "# Add the CPDs to the model\n",
    "model.add_cpds(cpd_a, cpd_b, cpd_z, cpd_d, cpd_e)\n",
    "model.fit(df)"
   ]
  },
  {
   "cell_type": "markdown",
   "metadata": {},
   "source": [
    "### 4.1.4. Inference from Bayesian Network\n",
    "\n",
    "Now, how can we draw conclusions from a Bayesian Network? As you may already know from the Bayesian approach, the outcome we obtain is a posterior distribution that depicts all possible values and their probabilities, thus addressing the uncertainty in the result. The same principle applies here. A notable difference between deriving inference from a Bayesian Network and a regression result is that we do not obtain the coefficient or effect size. Instead, we derive statements like:\n",
    "\n",
    "**\"The probability of x given y and z is...\"**\n",
    "\n",
    "Here, y and z represent the parents of x. Let's consider the following example after fitting the model to our data."
   ]
  },
  {
   "cell_type": "code",
   "execution_count": 346,
   "metadata": {},
   "outputs": [],
   "source": [
    "from pgmpy.inference import VariableElimination\n",
    "\n",
    "# taking the inference\n",
    "# pass the query with what variable we want to know\n",
    "# pass evidence with the values of parent\n",
    "\n",
    "inference = VariableElimination(model)\n",
    "result = inference.query(['z'], evidence={'a': 6, 'b': 0})"
   ]
  },
  {
   "cell_type": "code",
   "execution_count": 383,
   "metadata": {},
   "outputs": [
    {
     "data": {
      "text/html": [
       "<div>\n",
       "<style scoped>\n",
       "    .dataframe tbody tr th:only-of-type {\n",
       "        vertical-align: middle;\n",
       "    }\n",
       "\n",
       "    .dataframe tbody tr th {\n",
       "        vertical-align: top;\n",
       "    }\n",
       "\n",
       "    .dataframe thead th {\n",
       "        text-align: right;\n",
       "    }\n",
       "</style>\n",
       "<table border=\"1\" class=\"dataframe\">\n",
       "  <thead>\n",
       "    <tr style=\"text-align: right;\">\n",
       "      <th></th>\n",
       "      <th>values</th>\n",
       "      <th>probabilities</th>\n",
       "    </tr>\n",
       "  </thead>\n",
       "  <tbody>\n",
       "    <tr>\n",
       "      <th>144</th>\n",
       "      <td>4.131800</td>\n",
       "      <td>0.125</td>\n",
       "    </tr>\n",
       "    <tr>\n",
       "      <th>168</th>\n",
       "      <td>4.437345</td>\n",
       "      <td>0.125</td>\n",
       "    </tr>\n",
       "    <tr>\n",
       "      <th>236</th>\n",
       "      <td>5.638355</td>\n",
       "      <td>0.125</td>\n",
       "    </tr>\n",
       "    <tr>\n",
       "      <th>283</th>\n",
       "      <td>6.353207</td>\n",
       "      <td>0.125</td>\n",
       "    </tr>\n",
       "    <tr>\n",
       "      <th>313</th>\n",
       "      <td>6.793056</td>\n",
       "      <td>0.125</td>\n",
       "    </tr>\n",
       "    <tr>\n",
       "      <th>334</th>\n",
       "      <td>7.069608</td>\n",
       "      <td>0.125</td>\n",
       "    </tr>\n",
       "    <tr>\n",
       "      <th>336</th>\n",
       "      <td>7.085594</td>\n",
       "      <td>0.125</td>\n",
       "    </tr>\n",
       "    <tr>\n",
       "      <th>404</th>\n",
       "      <td>7.774213</td>\n",
       "      <td>0.125</td>\n",
       "    </tr>\n",
       "  </tbody>\n",
       "</table>\n",
       "</div>"
      ],
      "text/plain": [
       "       values  probabilities\n",
       "144  4.131800          0.125\n",
       "168  4.437345          0.125\n",
       "236  5.638355          0.125\n",
       "283  6.353207          0.125\n",
       "313  6.793056          0.125\n",
       "334  7.069608          0.125\n",
       "336  7.085594          0.125\n",
       "404  7.774213          0.125"
      ]
     },
     "metadata": {},
     "output_type": "display_data"
    },
    {
     "name": "stdout",
     "output_type": "stream",
     "text": [
      "taking account of all probability, the mean would be: 6.160397219370321\n"
     ]
    }
   ],
   "source": [
    "# now, we can make either a pdf or kde plot\n",
    "# but first, let's put the data into the variables first\n",
    "\n",
    "values = df['z'].sort_values().values\n",
    "probabilities = result.values\n",
    "\n",
    "data = {'values': values, 'probabilities': probabilities}\n",
    "df_inference = pd.DataFrame(data)\n",
    "\n",
    "# we can now check where the probability is not zero\n",
    "display(df_inference[df_inference['probabilities'] > 0])\n",
    "print('taking account of all probability, the mean would be:', df_inference[df_inference['probabilities'] > 0]['values'].mean())"
   ]
  },
  {
   "cell_type": "code",
   "execution_count": 350,
   "metadata": {},
   "outputs": [
    {
     "data": {
      "image/png": "[encoded data removed]",
      "text/plain": [
       "<Figure size 800x500 with 1 Axes>"
      ]
     },
     "metadata": {},
     "output_type": "display_data"
    }
   ],
   "source": [
    "import seaborn as sns\n",
    "\n",
    "# and plot it with a KDE\n",
    "\n",
    "plt.figure(figsize=(8, 5))\n",
    "sns.kdeplot(values, weights=probabilities, cumulative=False)\n",
    "plt.xlabel('Z values')\n",
    "plt.ylabel('Probability')\n",
    "plt.title('PDF of Z given A=6 and B=0')\n",
    "\n",
    "plt.show()"
   ]
  },
  {
   "cell_type": "code",
   "execution_count": 351,
   "metadata": {},
   "outputs": [
    {
     "data": {
      "image/png": "[encoded data removed]",
      "text/plain": [
       "<Figure size 800x500 with 1 Axes>"
      ]
     },
     "metadata": {},
     "output_type": "display_data"
    }
   ],
   "source": [
    "# or in a PDF barplot\n",
    "\n",
    "plt.figure(figsize=(8, 5))\n",
    "plt.bar(values, probabilities, align='center', alpha=0.5)\n",
    "plt.xlabel('Z values')\n",
    "plt.ylabel('Probability')\n",
    "plt.title('PDF of Z given A=6 and B=0')\n",
    "\n",
    "plt.show()"
   ]
  },
  {
   "cell_type": "markdown",
   "metadata": {},
   "source": [
    "### 4.1.5. Comparing Result with Regression"
   ]
  },
  {
   "cell_type": "code",
   "execution_count": 370,
   "metadata": {},
   "outputs": [
    {
     "name": "stdout",
     "output_type": "stream",
     "text": [
      "with a regression model, given A = 6 and B = 0, Z = 5.97209092319203\n"
     ]
    }
   ],
   "source": [
    "import statsmodels.api as sm\n",
    "\n",
    "X = df[['a', 'b']]\n",
    "X = sm.add_constant(X)\n",
    "y = df['z']\n",
    "\n",
    "model = sm.OLS(y, X).fit()\n",
    "model.summary()\n",
    "\n",
    "new_data = pd.DataFrame({'const': 1, 'a': [6], 'b': [0]})\n",
    "prediction = model.predict(new_data)\n",
    "\n",
    "print('with a regression model, given A = 6 and B = 0, Z =', prediction.values[0])"
   ]
  },
  {
   "cell_type": "markdown",
   "metadata": {},
   "source": []
  },
  {
   "cell_type": "markdown",
   "metadata": {},
   "source": [
    "## 4.2. Path + Structural Equation Modeling (SEM)\n",
    "\n",
    "Structural Equation Modeling (SEM) is a statistical technique used to test and estimate causal relationships using a combination of statistical data and qualitative causal assumptions. It is not only one statistical method, but it's like a collection and diverse set of methods of statistical tests. It allows researchers to specify and test complex relationships among variables, including direct and indirect effects, mediation, moderation, and latent variable constructs.\n",
    "\n",
    "To understand SEM, let's take a look at some terms that you must be familiar with in advance before moving forward with SEM:\n",
    "\n",
    "- **Path Diagrams:** These diagrams visually represent the proposed causal relationships among variables in an SEM. They include observed variables (measured directly) and latent variables (not directly measured but inferred from observed variables).\n",
    "\n",
    "- **Measurement Models:** These models describe the relationships between latent variables and their observed indicators. They help assess the reliability and validity of the measurement instruments.\n",
    "\n",
    "- **Structural Models:** These models specify the relationships between latent variables and/or observed variables. They allow researchers to test hypotheses about the relationships among variables.\n",
    "\n",
    "- **Model Fit:** SEM uses various fit indices (e.g., chi-square, RMSEA, CFI) to assess how well the proposed model fits the data. Good model fit indicates that the model accurately represents the relationships among the variables.\n",
    "\n",
    "- **Causality vs. Correlation:** SEM can test causal relationships, but it does not prove causality. It provides evidence for or against hypothesized causal relationships based on the data and the model.\n",
    "\n",
    "- **Assumptions:** SEM assumes that the data are normally distributed, the relationships among variables are linear, and the measurement instruments are reliable and valid.\n",
    "\n",
    "- **Interpretation:** Interpreting SEM results involves understanding the estimated coefficients (path coefficients), standard errors, and significance levels. It also involves examining the overall model fit and the fit of individual paths.\n",
    "\n",
    "SEM is commonly utilized to test hypotheses regarding relationships among variables within a predefined theoretical model. It is not ideal for exploratory analysis when the relationships between variables are unknown beforehand. While we won't go into the theory behind SEM here. If you're interested into learning more about SEM, I suggested you to check this <a href='https://medium.com/@anand.abhishek2901/structural-equation-model-a-powerful-modeling-framework-cc410023570b'>link</a> out.\n",
    "\n",
    "SEM is particularly effective when attempting to measure **latent variables, which are not directly observed but inferred from other observed variables** (manifest variables). For instance, in a psychological study, researchers might seek to measure \"intelligence.\" Since intelligence cannot be directly measured, researchers might use observable variables like academic performance, problem-solving ability, and memory recall to infer the latent variable of intelligence.\n",
    "\n",
    "In our example here, we do not have any latent variables. However, as SEM is proficient in measuring the effect sizes of all nodes, we will employ it to comprehend the causal effect size in our causal structure."
   ]
  },
  {
   "cell_type": "markdown",
   "metadata": {},
   "source": [
    "### 4.2.1. Semopy\n",
    "\n",
    "There's only a scarce number of people who made a Python library dedicated to library. However there's one library called \"Semopy\" which is is designed to help statisticians that employ SEM techniques to handle their research in a more Pythonic way. We will use this library on this example below, but before that, let's take a look at the syntax on how to build the equation in Semopy.\n",
    "\n",
    "| Description                         | Syntax ex.           |\n",
    "|-------------------------------------|---------------------|\n",
    "| Regression operator (~)             | y ~ x1 + x2 + x3   |\n",
    "| Latent factor to variables (=~)     | eta =~ y1 + y2 + y3 |\n",
    "| Covariance operator (~~)            | a ~~ b + c         |"
   ]
  },
  {
   "cell_type": "markdown",
   "metadata": {},
   "source": [
    "### 4.2.2. Semopy in Action"
   ]
  },
  {
   "cell_type": "code",
   "execution_count": 410,
   "metadata": {},
   "outputs": [
    {
     "data": {
      "text/html": [
       "<div>\n",
       "<style scoped>\n",
       "    .dataframe tbody tr th:only-of-type {\n",
       "        vertical-align: middle;\n",
       "    }\n",
       "\n",
       "    .dataframe tbody tr th {\n",
       "        vertical-align: top;\n",
       "    }\n",
       "\n",
       "    .dataframe thead th {\n",
       "        text-align: right;\n",
       "    }\n",
       "</style>\n",
       "<table border=\"1\" class=\"dataframe\">\n",
       "  <thead>\n",
       "    <tr style=\"text-align: right;\">\n",
       "      <th></th>\n",
       "      <th>lval</th>\n",
       "      <th>op</th>\n",
       "      <th>rval</th>\n",
       "      <th>Estimate</th>\n",
       "      <th>Std. Err</th>\n",
       "      <th>z-value</th>\n",
       "      <th>p-value</th>\n",
       "    </tr>\n",
       "  </thead>\n",
       "  <tbody>\n",
       "    <tr>\n",
       "      <th>0</th>\n",
       "      <td>z</td>\n",
       "      <td>~</td>\n",
       "      <td>a</td>\n",
       "      <td>0.993783</td>\n",
       "      <td>0.011042</td>\n",
       "      <td>89.996549</td>\n",
       "      <td>0.0</td>\n",
       "    </tr>\n",
       "    <tr>\n",
       "      <th>1</th>\n",
       "      <td>z</td>\n",
       "      <td>~</td>\n",
       "      <td>b</td>\n",
       "      <td>1.008565</td>\n",
       "      <td>0.011009</td>\n",
       "      <td>91.614098</td>\n",
       "      <td>0.0</td>\n",
       "    </tr>\n",
       "    <tr>\n",
       "      <th>2</th>\n",
       "      <td>d</td>\n",
       "      <td>~</td>\n",
       "      <td>z</td>\n",
       "      <td>0.993564</td>\n",
       "      <td>0.007556</td>\n",
       "      <td>131.498259</td>\n",
       "      <td>0.0</td>\n",
       "    </tr>\n",
       "    <tr>\n",
       "      <th>3</th>\n",
       "      <td>e</td>\n",
       "      <td>~</td>\n",
       "      <td>z</td>\n",
       "      <td>1.017169</td>\n",
       "      <td>0.007277</td>\n",
       "      <td>139.775027</td>\n",
       "      <td>0.0</td>\n",
       "    </tr>\n",
       "    <tr>\n",
       "      <th>4</th>\n",
       "      <td>z</td>\n",
       "      <td>~~</td>\n",
       "      <td>z</td>\n",
       "      <td>1.032935</td>\n",
       "      <td>0.046194</td>\n",
       "      <td>22.360680</td>\n",
       "      <td>0.0</td>\n",
       "    </tr>\n",
       "    <tr>\n",
       "      <th>5</th>\n",
       "      <td>d</td>\n",
       "      <td>~~</td>\n",
       "      <td>d</td>\n",
       "      <td>1.035706</td>\n",
       "      <td>0.046318</td>\n",
       "      <td>22.360680</td>\n",
       "      <td>0.0</td>\n",
       "    </tr>\n",
       "    <tr>\n",
       "      <th>6</th>\n",
       "      <td>e</td>\n",
       "      <td>~~</td>\n",
       "      <td>e</td>\n",
       "      <td>0.960754</td>\n",
       "      <td>0.042966</td>\n",
       "      <td>22.360680</td>\n",
       "      <td>0.0</td>\n",
       "    </tr>\n",
       "  </tbody>\n",
       "</table>\n",
       "</div>"
      ],
      "text/plain": [
       "  lval  op rval  Estimate  Std. Err     z-value  p-value\n",
       "0    z   ~    a  0.993783  0.011042   89.996549      0.0\n",
       "1    z   ~    b  1.008565  0.011009   91.614098      0.0\n",
       "2    d   ~    z  0.993564  0.007556  131.498259      0.0\n",
       "3    e   ~    z  1.017169  0.007277  139.775027      0.0\n",
       "4    z  ~~    z  1.032935  0.046194   22.360680      0.0\n",
       "5    d  ~~    d  1.035706  0.046318   22.360680      0.0\n",
       "6    e  ~~    e  0.960754  0.042966   22.360680      0.0"
      ]
     },
     "execution_count": 410,
     "metadata": {},
     "output_type": "execute_result"
    }
   ],
   "source": [
    "import semopy as sem\n",
    "from semopy import Model\n",
    "\n",
    "# define the causal structure first\n",
    "# using a docstring to make it readable\n",
    "desc = '''\n",
    "    z ~ a + b\n",
    "    d ~ z\n",
    "    e ~ z\n",
    "    '''\n",
    "\n",
    "# fit the causal structure into the model\n",
    "mod = Model(desc)\n",
    "mod.fit(df)\n",
    "\n",
    "# like statsmodels, we can use something similar to summary to inspect the result\n",
    "mod.inspect()"
   ]
  },
  {
   "cell_type": "markdown",
   "metadata": {},
   "source": [
    "Now, we can evaluate the SEM model we built previously using `calc_stats` method. In `semopy`, the `calc_stats` method is used to calculate fit indices for a fitted SEM model. These fit indices help to evaluate how well the model fits the observed data. The fit indices available in `semopy` include:\n",
    "\n",
    "1. **χ² (Chi-square):** A goodness-of-fit measure that compares the observed covariance matrix with the model-implied covariance matrix. A lower χ² value indicates a better fit, but it is sensitive to sample size.\n",
    "\n",
    "2. **RMSEA (Root Mean Square Error of Approximation):** Measures the discrepancy between the model-implied covariance matrix and the observed covariance matrix, adjusted for model complexity. A lower RMSEA value indicates a better fit, with values below 0.05 indicating close fit.\n",
    "\n",
    "3. **CFI (Comparative Fit Index):** Compares the fit of the specified model with a null model in which all variables are uncorrelated. Values close to 1 indicate a good fit, with values above 0.95 often considered acceptable.\n",
    "\n",
    "4. **TLI (Tucker-Lewis Index):** Similar to CFI, TLI compares the specified model with a null model. Values above 0.95 are often considered indicative of a good fit.\n",
    "\n",
    "5. **NFI (Normed Fit Index):** Compares the fit of the specified model with a null model. Values range from 0 to 1, with values closer to 1 indicating a better fit.\n",
    "\n",
    "6. **GFI (Goodness-of-Fit Index):** Measures the proportion of variance in the observed data that is explained by the model. Values close to 1 indicate a good fit.\n",
    "\n",
    "7. **AGFI (Adjusted Goodness-of-Fit Index):** Similar to GFI, but adjusted for model parsimony. Values close to 1 indicate a good fit.\n",
    "\n",
    "These fit indices provide different perspectives on the goodness of fit of an SEM model and can be used together to assess the overall fit of the model."
   ]
  },
  {
   "cell_type": "code",
   "execution_count": 404,
   "metadata": {},
   "outputs": [
    {
     "data": {
      "text/html": [
       "<div>\n",
       "<style scoped>\n",
       "    .dataframe tbody tr th:only-of-type {\n",
       "        vertical-align: middle;\n",
       "    }\n",
       "\n",
       "    .dataframe tbody tr th {\n",
       "        vertical-align: top;\n",
       "    }\n",
       "\n",
       "    .dataframe thead th {\n",
       "        text-align: right;\n",
       "    }\n",
       "</style>\n",
       "<table border=\"1\" class=\"dataframe\">\n",
       "  <thead>\n",
       "    <tr style=\"text-align: right;\">\n",
       "      <th></th>\n",
       "      <th>DoF</th>\n",
       "      <th>DoF Baseline</th>\n",
       "      <th>chi2</th>\n",
       "      <th>chi2 p-value</th>\n",
       "      <th>chi2 Baseline</th>\n",
       "      <th>CFI</th>\n",
       "      <th>GFI</th>\n",
       "      <th>AGFI</th>\n",
       "      <th>NFI</th>\n",
       "      <th>TLI</th>\n",
       "      <th>RMSEA</th>\n",
       "      <th>AIC</th>\n",
       "      <th>BIC</th>\n",
       "      <th>LogLik</th>\n",
       "    </tr>\n",
       "  </thead>\n",
       "  <tbody>\n",
       "    <tr>\n",
       "      <th>Value</th>\n",
       "      <td>8</td>\n",
       "      <td>12</td>\n",
       "      <td>5.751496</td>\n",
       "      <td>0.675045</td>\n",
       "      <td>8800.348921</td>\n",
       "      <td>1.000256</td>\n",
       "      <td>0.999346</td>\n",
       "      <td>0.99902</td>\n",
       "      <td>0.999346</td>\n",
       "      <td>1.000384</td>\n",
       "      <td>0</td>\n",
       "      <td>13.988497</td>\n",
       "      <td>48.342784</td>\n",
       "      <td>0.005751</td>\n",
       "    </tr>\n",
       "  </tbody>\n",
       "</table>\n",
       "</div>"
      ],
      "text/plain": [
       "       DoF  DoF Baseline      chi2  chi2 p-value  chi2 Baseline       CFI  \\\n",
       "Value    8            12  5.751496      0.675045    8800.348921  1.000256   \n",
       "\n",
       "            GFI     AGFI       NFI       TLI  RMSEA        AIC        BIC  \\\n",
       "Value  0.999346  0.99902  0.999346  1.000384      0  13.988497  48.342784   \n",
       "\n",
       "         LogLik  \n",
       "Value  0.005751  "
      ]
     },
     "execution_count": 404,
     "metadata": {},
     "output_type": "execute_result"
    }
   ],
   "source": [
    "sem.calc_stats(mod)"
   ]
  },
  {
   "cell_type": "markdown",
   "metadata": {},
   "source": [
    "Then, we can also print the graph and it's coefficient + p-value using `semplot` method."
   ]
  },
  {
   "cell_type": "code",
   "execution_count": 405,
   "metadata": {},
   "outputs": [],
   "source": [
    "g = sem.semplot(mod, 'image/model.png')"
   ]
  },
  {
   "cell_type": "markdown",
   "metadata": {},
   "source": [
    "![Result of the model from semopy.](image/model.png)"
   ]
  }
 ],
 "metadata": {
  "kernelspec": {
   "display_name": "base",
   "language": "python",
   "name": "python3"
  },
  "language_info": {
   "codemirror_mode": {
    "name": "ipython",
    "version": 3
   },
   "file_extension": ".py",
   "mimetype": "text/x-python",
   "name": "python",
   "nbconvert_exporter": "python",
   "pygments_lexer": "ipython3",
   "version": "3.10.9"
  }
 },
 "nbformat": 4,
 "nbformat_minor": 2
}
